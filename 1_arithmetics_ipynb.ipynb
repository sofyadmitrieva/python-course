{
  "cells": [
    {
      "cell_type": "markdown",
      "metadata": {
        "id": "view-in-github",
        "colab_type": "text"
      },
      "source": [
        "<a href=\"https://colab.research.google.com/github/sofyadmitrieva/python-course/blob/main/1_arithmetics_ipynb.ipynb\" target=\"_parent\"><img src=\"https://colab.research.google.com/assets/colab-badge.svg\" alt=\"Open In Colab\"/></a>"
      ]
    },
    {
      "cell_type": "markdown",
      "metadata": {
        "id": "LKJXB1rGMi22"
      },
      "source": [
        "(c) В.И. Фирсанова | 2025"
      ]
    },
    {
      "cell_type": "markdown",
      "metadata": {
        "id": "fQaRb4FdiZXL"
      },
      "source": [
        "# Арифметические операции в Python\n",
        "\n",
        "1. **Сложение (+)**:\n",
        "   - `3 + 5` возвращает `8`\n",
        "\n",
        "2. **Вычитание (-)**:\n",
        "   - `10 - 4` возвращает `6`\n",
        "\n",
        "3. **Умножение (*)**:\n",
        "   - `2 * 6` возвращает `12`\n",
        "\n",
        "4. **Деление (/)**:\n",
        "   - `15 / 3` возвращает `5.0` (число с плавающей точкой)\n",
        "\n",
        "5. **Целочисленное деление (//)**:\n",
        "   - `15 // 4` возвращает `3` (целое число)\n",
        "\n",
        "6. **Остаток от деления (%)**:\n",
        "   - `15 % 4` возвращает `3`\n",
        "\n",
        "7. **Возведение в степень (**** **либо (pow())**:\n",
        "   - `2 ** 3` или `pow(2, 3)` возвращает `8`\n",
        "\n",
        "8. **Модуль (abs())**:\n",
        "   - `abs(-10)` возвращает `10`\n",
        "\n",
        "10. **Округление (round())**:\n",
        "    - `round(4.6)` возвращает `5`\n",
        "    - `round(4.65, 1)` возвращает `4.7` (1 знак после запятой)\n",
        "\n",
        "**Порядок арифметических операций в Python:**\n",
        "\n",
        "1. Скобки\n",
        "2. Возведение в степень, корень числа\n",
        "3. Умножение и деление слева-направо\n",
        "4. Сложение и вычитание слева-направо"
      ]
    },
    {
      "cell_type": "code",
      "execution_count": 1,
      "metadata": {
        "id": "l6Dwn2cDj_N9",
        "colab": {
          "base_uri": "https://localhost:8080/"
        },
        "outputId": "55f05bb2-c6c3-4edb-eeef-445d566f170a"
      },
      "outputs": [
        {
          "output_type": "stream",
          "name": "stdout",
          "text": [
            "30\n"
          ]
        }
      ],
      "source": [
        "num1 = 10\n",
        "num2 = 20\n",
        "\n",
        "# Напишите код для сложения 2-х чисел\n",
        "\n",
        "result = num1 + num2\n",
        "\n",
        "print(result)"
      ]
    },
    {
      "cell_type": "code",
      "execution_count": 2,
      "metadata": {
        "id": "0eRzO5hMkdIc",
        "colab": {
          "base_uri": "https://localhost:8080/"
        },
        "outputId": "6a0ef752-cb8b-4d8f-a7ac-c84962377dd2"
      },
      "outputs": [
        {
          "output_type": "stream",
          "name": "stdout",
          "text": [
            "10\n"
          ]
        }
      ],
      "source": [
        "num1 = 10\n",
        "num2 = 20\n",
        "\n",
        "# Напишите код для вычитания 2-х чисел\n",
        "\n",
        "result = num2 - num1\n",
        "\n",
        "print(result)"
      ]
    },
    {
      "cell_type": "code",
      "execution_count": 3,
      "metadata": {
        "id": "ZyueEtLqkinp",
        "colab": {
          "base_uri": "https://localhost:8080/"
        },
        "outputId": "b2f38fa3-c730-4dac-a945-e770ad66aa32"
      },
      "outputs": [
        {
          "output_type": "stream",
          "name": "stdout",
          "text": [
            "200\n"
          ]
        }
      ],
      "source": [
        "num1 = 10\n",
        "num2 = 20\n",
        "\n",
        "# Напишите код для умножения 2-х чисел\n",
        "\n",
        "result = num1 * num2\n",
        "\n",
        "print(result)"
      ]
    },
    {
      "cell_type": "code",
      "execution_count": 4,
      "metadata": {
        "id": "6s-US4aVkj93",
        "colab": {
          "base_uri": "https://localhost:8080/"
        },
        "outputId": "dfcf52eb-ec72-4d22-9aae-bb5da7e178ae"
      },
      "outputs": [
        {
          "output_type": "stream",
          "name": "stdout",
          "text": [
            "2.0\n"
          ]
        }
      ],
      "source": [
        "num1 = 10\n",
        "num2 = 20\n",
        "\n",
        "# Напишите код для деления 2-х чисел\n",
        "\n",
        "result = num2 / num1\n",
        "\n",
        "print(result)"
      ]
    },
    {
      "cell_type": "code",
      "execution_count": 5,
      "metadata": {
        "id": "53S7Bayskqiv",
        "colab": {
          "base_uri": "https://localhost:8080/"
        },
        "outputId": "7a05b925-f4f9-4a05-c274-5ce262d39586"
      },
      "outputs": [
        {
          "output_type": "stream",
          "name": "stdout",
          "text": [
            "Hello, World!\n"
          ]
        }
      ],
      "source": [
        "str1 = \"Hello, \"\n",
        "str2 = \"World!\"\n",
        "\n",
        "# Напишите код для сложения 2-х строк, что получилось?\n",
        "\n",
        "result = str1 + str2\n",
        "\n",
        "print(result) # Получилась фраза \"Hello, world!\""
      ]
    },
    {
      "cell_type": "code",
      "execution_count": 6,
      "metadata": {
        "id": "IWmTrByfk0Ok",
        "colab": {
          "base_uri": "https://localhost:8080/",
          "height": 211
        },
        "outputId": "662d10df-4f6c-4310-97af-6494818f15b2"
      },
      "outputs": [
        {
          "output_type": "error",
          "ename": "TypeError",
          "evalue": "can only concatenate str (not \"int\") to str",
          "traceback": [
            "\u001b[0;31m---------------------------------------------------------------------------\u001b[0m",
            "\u001b[0;31mTypeError\u001b[0m                                 Traceback (most recent call last)",
            "\u001b[0;32m/tmp/ipython-input-2978905151.py\u001b[0m in \u001b[0;36m<cell line: 0>\u001b[0;34m()\u001b[0m\n\u001b[1;32m      4\u001b[0m \u001b[0;31m# Напишите код для сложения строки и числа, чем это все закончилось?\u001b[0m\u001b[0;34m\u001b[0m\u001b[0;34m\u001b[0m\u001b[0m\n\u001b[1;32m      5\u001b[0m \u001b[0;34m\u001b[0m\u001b[0m\n\u001b[0;32m----> 6\u001b[0;31m \u001b[0mresult\u001b[0m \u001b[0;34m=\u001b[0m \u001b[0mstr1\u001b[0m \u001b[0;34m+\u001b[0m \u001b[0mnum1\u001b[0m\u001b[0;34m\u001b[0m\u001b[0;34m\u001b[0m\u001b[0m\n\u001b[0m\u001b[1;32m      7\u001b[0m \u001b[0;34m\u001b[0m\u001b[0m\n\u001b[1;32m      8\u001b[0m \u001b[0mprint\u001b[0m\u001b[0;34m(\u001b[0m\u001b[0mresult\u001b[0m\u001b[0;34m)\u001b[0m\u001b[0;34m\u001b[0m\u001b[0;34m\u001b[0m\u001b[0m\n",
            "\u001b[0;31mTypeError\u001b[0m: can only concatenate str (not \"int\") to str"
          ]
        }
      ],
      "source": [
        "str1 = \"Hello, \"\n",
        "num1 = 10\n",
        "\n",
        "# Напишите код для сложения строки и числа, чем это все закончилось?\n",
        "\n",
        "result = str1 + num1\n",
        "\n",
        "print(result) # Все закончилось ошибкой, строки можно складывать только со строками"
      ]
    },
    {
      "cell_type": "code",
      "execution_count": 7,
      "metadata": {
        "id": "MTUyA3jUlJBL",
        "colab": {
          "base_uri": "https://localhost:8080/"
        },
        "outputId": "5aebf7ad-30fa-417f-cf05-406c91878097"
      },
      "outputs": [
        {
          "output_type": "stream",
          "name": "stdout",
          "text": [
            "Hello, 10\n"
          ]
        }
      ],
      "source": [
        "str1 = \"Hello, \"\n",
        "num1 = \"10\"\n",
        "\n",
        "# Напишите код для сложения строки и числа еще раз, что получилось?\n",
        "\n",
        "result = str1 + num1\n",
        "\n",
        "print(result) # Получилось \"Hello, 10\""
      ]
    },
    {
      "cell_type": "markdown",
      "metadata": {
        "id": "pQk4nII6lYHC"
      },
      "source": [
        "Сложение двух строк называется **конкатенацией**. В Python можно конкатенировать только 2 одинаковых типа данных, например, числа и числа, строки и строки, матрицы и матрицы и т.д."
      ]
    },
    {
      "cell_type": "code",
      "execution_count": 8,
      "metadata": {
        "id": "xbPvx4Dslnhp",
        "colab": {
          "base_uri": "https://localhost:8080/"
        },
        "outputId": "f67d5f1f-4369-484b-9ee2-34de3fdbf2cf"
      },
      "outputs": [
        {
          "output_type": "stream",
          "name": "stdout",
          "text": [
            "30\n"
          ]
        }
      ],
      "source": [
        "num1 = 10\n",
        "num2 = 20\n",
        "\n",
        "# Выведите на экран результат сложения 2-х чисел\n",
        "\n",
        "num1 += num2\n",
        "\n",
        "print(num1)"
      ]
    },
    {
      "cell_type": "markdown",
      "metadata": {
        "id": "EQdzTKaMlvyB"
      },
      "source": [
        "Операторы `+=`, `-=`, `*=`, `/=` изменяют значение текущей переменной путем сложения, вычитания, умножения и т.д. другой переменной. Они делают код **питоничным**, ускоряя как скорость написания кода, так и скорость его выполнения.\n",
        "\n",
        "Почему ускоряется скорость выполнения кода?\n",
        "\n",
        "Сценарий 1\n",
        "\n",
        "```\n",
        "a = 1 # занимаем ячейку памяти компьютера и даем ей идентификатор a\n",
        "b = 1 # занимаем ячейку памяти компьютера и даем ей идентификатор b\n",
        "\n",
        "c = a + b # занимаем ячейку памяти компьютера и даем ей идентификатор c\n",
        "```\n",
        "Сценарий 2\n",
        "```\n",
        "a = 1 # занимаем ячейку памяти компьютера и даем ей идентификатор a\n",
        "b = 1 # занимаем ячейку памяти компьютера и даем ей идентификатор b\n",
        "\n",
        "a += b # обновляем информацию в ячейке a\n",
        "```\n",
        "\n",
        "Результат тот же, но мы не заполняем место в памяти компьютера ячейкой `c`.\n",
        "А теперь представь, что мы работаем с большими данными. Как много памяти мы сохраним и насколько быстрее будет работать такой код!\n",
        "\n",
        "Так что питоничность - это то, к чему мы стремимся, как питонисты :)"
      ]
    },
    {
      "cell_type": "code",
      "execution_count": 11,
      "metadata": {
        "id": "C32ozj4SnYH1",
        "colab": {
          "base_uri": "https://localhost:8080/"
        },
        "outputId": "4b8beba1-5f4b-44f8-d568-11256a00af24"
      },
      "outputs": [
        {
          "output_type": "stream",
          "name": "stdout",
          "text": [
            "10\n"
          ]
        }
      ],
      "source": [
        "num1 = 10\n",
        "num2 = 20\n",
        "\n",
        "# Выведите на экран результат вычитания 2-х чисел с помощью оператора -=\n",
        "\n",
        "num2 -= num1\n",
        "\n",
        "print(num2)"
      ]
    },
    {
      "cell_type": "code",
      "execution_count": 12,
      "metadata": {
        "id": "yF5z2RYgnh0O",
        "colab": {
          "base_uri": "https://localhost:8080/"
        },
        "outputId": "2f819e20-be72-452e-a3f3-a2a86443ebdf"
      },
      "outputs": [
        {
          "output_type": "stream",
          "name": "stdout",
          "text": [
            "200\n"
          ]
        }
      ],
      "source": [
        "num1 = 10\n",
        "num2 = 20\n",
        "\n",
        "# Выведите на экран результат умножения 2-х чисел с помощью оператора *=\n",
        "\n",
        "num1 *= num2\n",
        "\n",
        "print(num1)"
      ]
    },
    {
      "cell_type": "code",
      "execution_count": 13,
      "metadata": {
        "id": "i0nBdi3ankz0",
        "colab": {
          "base_uri": "https://localhost:8080/"
        },
        "outputId": "0200fd44-bfaa-4426-8384-1b168e76f2ff"
      },
      "outputs": [
        {
          "output_type": "stream",
          "name": "stdout",
          "text": [
            "2.0\n"
          ]
        }
      ],
      "source": [
        "num1 = 10\n",
        "num2 = 20\n",
        "\n",
        "# Выведите на экран результат деления 2-х чисел с помощью оператора /=\n",
        "\n",
        "num2 /= num1\n",
        "\n",
        "print(num2)"
      ]
    },
    {
      "cell_type": "markdown",
      "metadata": {
        "id": "f31cd5a8"
      },
      "source": [
        "\n",
        "## Теория: имена переменных и операции в Python\n",
        "\n",
        "### Имена переменных\n",
        "- Имя переменной должно быть **понятным и описательным**. Например, `age`, `user_name`, а не `a`, `xyz`.\n",
        "- Используйте **snake_case**, а не **camelCase**: слова разделяются символом подчёркивания (`max_value`, `user_input`).\n",
        "- Имя переменной **не может начинаться с цифры** и содержать пробелы.\n",
        "  > Python не считает `0variable`, но считает `variable0`. Это связано с тем, что то, что начинается с цифры, начинает интерпретироваться нашей системой как число. Не будем путать процессор :)\n",
        "- **Зарезервированные слова** (например, `for`, `if`, `class`) нельзя использовать в качестве имён.\n",
        "  > Что это за \"резерв\" такой? Сюда попадают названия, которые участвуют в работе языка Python: `for` запускает цикл, `class` объявляет класс и т.д. Использование таких слов в качестве переменных создаст *неоднозначность* в работе программы. Проще говоря, питон запутается!\n",
        "\n",
        "Плохой нейминг:\n",
        "```python\n",
        "a = 10\n",
        "b = \"hello\"\n",
        "```\n",
        "\n",
        "Хороший нейминг:\n",
        "```python\n",
        "user_age = 10\n",
        "greeting = \"hello\"\n",
        "```\n"
      ]
    },
    {
      "cell_type": "markdown",
      "source": [
        "**Практика** перед новым занятием"
      ],
      "metadata": {
        "id": "iI6yYKuwHTdc"
      }
    },
    {
      "cell_type": "code",
      "execution_count": 15,
      "metadata": {
        "colab": {
          "base_uri": "https://localhost:8080/"
        },
        "id": "44c1f87e",
        "outputId": "6ff186fc-0f48-4d9c-c13c-0f6258b8572a"
      },
      "outputs": [
        {
          "output_type": "stream",
          "name": "stdout",
          "text": [
            "Введи свой возраст: 24\n",
            "Переменная создана правильно.\n"
          ]
        }
      ],
      "source": [
        "# 1: создай переменную с именем user_age и сохрани в ней число, введённое с клавиатуры\n",
        "user_age = int(input(\"Введи свой возраст: \"))\n",
        "\n",
        "# Проверка\n",
        "assert isinstance(user_age, int)\n",
        "print(\"Переменная создана правильно.\")"
      ]
    },
    {
      "cell_type": "code",
      "source": [
        "# Теперь введи сюда имя пользователя\n",
        "user_age = int(input(\"Введи свой возраст: \"))\n",
        "\n",
        "# Проверка\n",
        "assert isinstance(user_age, int)"
      ],
      "metadata": {
        "id": "R_KvKPZtHika",
        "colab": {
          "base_uri": "https://localhost:8080/",
          "height": 228
        },
        "outputId": "ed94ce64-c50b-4e2c-9a6a-f3bf95fb7338"
      },
      "execution_count": 18,
      "outputs": [
        {
          "name": "stdout",
          "output_type": "stream",
          "text": [
            "Введи свой возраст: Соня\n"
          ]
        },
        {
          "output_type": "error",
          "ename": "ValueError",
          "evalue": "invalid literal for int() with base 10: 'Соня'",
          "traceback": [
            "\u001b[0;31m---------------------------------------------------------------------------\u001b[0m",
            "\u001b[0;31mValueError\u001b[0m                                Traceback (most recent call last)",
            "\u001b[0;32m/tmp/ipython-input-2180308627.py\u001b[0m in \u001b[0;36m<cell line: 0>\u001b[0;34m()\u001b[0m\n\u001b[1;32m      1\u001b[0m \u001b[0;31m# Теперь введи сюда имя пользователя\u001b[0m\u001b[0;34m\u001b[0m\u001b[0;34m\u001b[0m\u001b[0m\n\u001b[0;32m----> 2\u001b[0;31m \u001b[0muser_age\u001b[0m \u001b[0;34m=\u001b[0m \u001b[0mint\u001b[0m\u001b[0;34m(\u001b[0m\u001b[0minput\u001b[0m\u001b[0;34m(\u001b[0m\u001b[0;34m\"Введи свой возраст: \"\u001b[0m\u001b[0;34m)\u001b[0m\u001b[0;34m)\u001b[0m\u001b[0;34m\u001b[0m\u001b[0;34m\u001b[0m\u001b[0m\n\u001b[0m\u001b[1;32m      3\u001b[0m \u001b[0;34m\u001b[0m\u001b[0m\n\u001b[1;32m      4\u001b[0m \u001b[0;31m# Проверка\u001b[0m\u001b[0;34m\u001b[0m\u001b[0;34m\u001b[0m\u001b[0m\n\u001b[1;32m      5\u001b[0m \u001b[0;32massert\u001b[0m \u001b[0misinstance\u001b[0m\u001b[0;34m(\u001b[0m\u001b[0muser_age\u001b[0m\u001b[0;34m,\u001b[0m \u001b[0mint\u001b[0m\u001b[0;34m)\u001b[0m\u001b[0;34m\u001b[0m\u001b[0;34m\u001b[0m\u001b[0m\n",
            "\u001b[0;31mValueError\u001b[0m: invalid literal for int() with base 10: 'Соня'"
          ]
        }
      ]
    },
    {
      "cell_type": "markdown",
      "source": [
        "Какой из элементов кода вызвал ошибку? Ответ (для ответа можно использовать внешние источники):\n",
        "Ошибку вызвала функция int(). Она пытается преобразовать строку в целое число. Мое имя не является целым числом, поэтому возникает ошибка"
      ],
      "metadata": {
        "id": "SiWR5PNMHwAf"
      }
    },
    {
      "cell_type": "markdown",
      "source": [
        "**Задания на закрепление материала**"
      ],
      "metadata": {
        "id": "H3EbQGPkItjR"
      }
    },
    {
      "cell_type": "markdown",
      "source": [
        "1. Создай переменную x = 10 и приьавт к ней 5 с помощью сокращённого (комбинированного) оператора"
      ],
      "metadata": {
        "id": "NwmxhHBEIx9L"
      }
    },
    {
      "cell_type": "code",
      "source": [
        "x = 10\n",
        "x += 5\n",
        "print(x)"
      ],
      "metadata": {
        "id": "SgV8q_5OHd_E",
        "colab": {
          "base_uri": "https://localhost:8080/"
        },
        "outputId": "ba144c54-0b15-4e84-a523-4227eae58fe6"
      },
      "execution_count": 19,
      "outputs": [
        {
          "output_type": "stream",
          "name": "stdout",
          "text": [
            "15\n"
          ]
        }
      ]
    },
    {
      "cell_type": "markdown",
      "source": [
        "2. Написать код, чтобы преобразовать температуру в градусах по Цельсию к виду значений температуры в градусах по Фаренгейту. Использовать `int(input())` для ввода значения температур"
      ],
      "metadata": {
        "id": "dd2gF9NwJA-v"
      }
    },
    {
      "cell_type": "code",
      "source": [
        "celsius = int(input(\"Введите температуру в градусах Цельсия: \"))\n",
        "fahrenheit = (celsius * 9/5) + 32\n",
        "print(\"Температура в градусах Фаренгейта:\", fahrenheit)"
      ],
      "metadata": {
        "id": "Kt3veehuJzJ5",
        "colab": {
          "base_uri": "https://localhost:8080/"
        },
        "outputId": "f1111d7a-d082-4523-9dac-014b1260cb9b"
      },
      "execution_count": 20,
      "outputs": [
        {
          "output_type": "stream",
          "name": "stdout",
          "text": [
            "Введите температуру в градусах Цельсия: 32\n",
            "Температура в градусах Фаренгейта: 89.6\n"
          ]
        }
      ]
    },
    {
      "cell_type": "markdown",
      "source": [
        "3. Написать код, чтобы переводить минуты в часы и считать остаток минут. Использовать `int(input())` для ввода количества минут"
      ],
      "metadata": {
        "id": "vX8Tl1zJJ6Gx"
      }
    },
    {
      "cell_type": "code",
      "source": [
        "minute = int(input())\n",
        "hour = minute // 60\n",
        "minutes_left = minute % 60\n",
        "print('Часы: ', hour, '. Остаток минут: ', minutes_left, '.', sep='')"
      ],
      "metadata": {
        "id": "lBhk8No8KFRH",
        "colab": {
          "base_uri": "https://localhost:8080/"
        },
        "outputId": "1d9e3125-b34a-4d2b-c780-60b15e424e47"
      },
      "execution_count": 27,
      "outputs": [
        {
          "output_type": "stream",
          "name": "stdout",
          "text": [
            "132\n",
            "Часы: 2. Остаток минут: 12.\n"
          ]
        }
      ]
    },
    {
      "cell_type": "markdown",
      "source": [
        "4. Ячейка кода ниже должна принимать 2 числа и считать их сумму, разность, произведение и частное"
      ],
      "metadata": {
        "id": "CjEzHXxYKFpF"
      }
    },
    {
      "cell_type": "code",
      "source": [
        "num1 = int(input(\"Введите первое число: \"))\n",
        "num2 = int(input(\"Введите второе число: \"))\n",
        "print ('Сумма: ', num1 + num2, 'Разность: ', num1 - num2, 'Произведение:', num1 * num2, 'Частное: ', num1/num2, sep='\\n')\n"
      ],
      "metadata": {
        "id": "NZ2kppmuKPvJ",
        "colab": {
          "base_uri": "https://localhost:8080/"
        },
        "outputId": "9e455cca-92c7-43bb-ad1b-618367dbeb83"
      },
      "execution_count": 30,
      "outputs": [
        {
          "output_type": "stream",
          "name": "stdout",
          "text": [
            "Введите первое число: 25\n",
            "Введите второе число: 5\n",
            "Сумма: \n",
            "30\n",
            "Разность: \n",
            "20\n",
            "Произведение:\n",
            "125\n",
            "Частное: \n",
            "5.0\n"
          ]
        }
      ]
    },
    {
      "cell_type": "markdown",
      "source": [
        "5. Сколько будет 15% от 200?"
      ],
      "metadata": {
        "id": "14V2rbizKQMH"
      }
    },
    {
      "cell_type": "code",
      "source": [
        "num1 = 200*15/100\n",
        "print(num1)"
      ],
      "metadata": {
        "id": "s3S7cjRGKa3w",
        "colab": {
          "base_uri": "https://localhost:8080/"
        },
        "outputId": "ebe32448-5500-4053-a424-5e97287c8c83"
      },
      "execution_count": 32,
      "outputs": [
        {
          "output_type": "stream",
          "name": "stdout",
          "text": [
            "30.0\n"
          ]
        }
      ]
    }
  ],
  "metadata": {
    "colab": {
      "provenance": [],
      "include_colab_link": true
    },
    "kernelspec": {
      "display_name": "Python 3",
      "name": "python3"
    },
    "language_info": {
      "name": "python"
    }
  },
  "nbformat": 4,
  "nbformat_minor": 0
}